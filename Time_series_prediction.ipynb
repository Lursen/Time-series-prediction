{
  "nbformat": 4,
  "nbformat_minor": 0,
  "metadata": {
    "colab": {
      "name": "Time_series_prediction.ipynb",
      "provenance": [],
      "collapsed_sections": [],
      "authorship_tag": "ABX9TyOPMB4YWBC704i0f59RN7Ss",
      "include_colab_link": true
    },
    "kernelspec": {
      "name": "python3",
      "display_name": "Python 3"
    },
    "language_info": {
      "name": "python"
    }
  },
  "cells": [
    {
      "cell_type": "markdown",
      "metadata": {
        "id": "view-in-github",
        "colab_type": "text"
      },
      "source": [
        "<a href=\"https://colab.research.google.com/github/Lursen/Time-series-prediction/blob/main/Time_series_prediction.ipynb\" target=\"_parent\"><img src=\"https://colab.research.google.com/assets/colab-badge.svg\" alt=\"Open In Colab\"/></a>"
      ]
    },
    {
      "cell_type": "markdown",
      "source": [
        "Класс однослойной сети прямого распространения"
      ],
      "metadata": {
        "id": "_XUTwfxKGeOw"
      }
    },
    {
      "cell_type": "code",
      "metadata": {
        "id": "mCeIynmXNeyZ"
      },
      "source": [
        "import torch \n",
        "import matplotlib.pyplot as plt\n",
        "import numpy as np\n",
        "\n",
        "class Feedforward(torch.nn.Module):\n",
        "        def __init__(self, input_size, hidden_size):\n",
        "            super(Feedforward, self).__init__()\n",
        "            self.input_size = input_size\n",
        "            self.hidden_size  = hidden_size\n",
        "            self.fc1 = torch.nn.Linear(self.input_size, self.hidden_size)\n",
        "            self.relu = torch.nn.ReLU()\n",
        "            self.fc2 = torch.nn.Linear(self.hidden_size, 1)\n",
        "            self.sigmoid = torch.nn.Sigmoid()\n",
        "            self.tanh = torch.nn.Tanh()\n",
        "\n",
        "        def forward(self, x):\n",
        "            hidden = self.fc1(x)\n",
        "            tanh   = self.tanh(hidden)\n",
        "            output = self.fc2(tanh)\n",
        "            output = self.tanh(output)\n",
        "            return output"
      ],
      "execution_count": null,
      "outputs": []
    },
    {
      "cell_type": "markdown",
      "source": [
        "Работа с данными"
      ],
      "metadata": {
        "id": "Y-RYFsHbzgIf"
      }
    },
    {
      "cell_type": "code",
      "metadata": {
        "colab": {
          "base_uri": "https://localhost:8080/",
          "height": 415
        },
        "outputId": "d22a87be-f06e-481b-d2ae-3130ec2958bf",
        "id": "-M-50mFzz6qk"
      },
      "source": [
        "import pandas as pd\n",
        "data= pd.read_csv(\"Прошлые данные - EUR_USD.csv\", decimal=\",\")\n",
        "\n",
        "data['Дата'] =pd.to_datetime(data.Дата)\n",
        "data.sort_values(by='Дата', inplace=True, ascending=True)\n",
        "data = data.reset_index(drop=True)\n",
        "data"
      ],
      "execution_count": null,
      "outputs": [
        {
          "output_type": "execute_result",
          "data": {
            "text/html": [
              "<div>\n",
              "<style scoped>\n",
              "    .dataframe tbody tr th:only-of-type {\n",
              "        vertical-align: middle;\n",
              "    }\n",
              "\n",
              "    .dataframe tbody tr th {\n",
              "        vertical-align: top;\n",
              "    }\n",
              "\n",
              "    .dataframe thead th {\n",
              "        text-align: right;\n",
              "    }\n",
              "</style>\n",
              "<table border=\"1\" class=\"dataframe\">\n",
              "  <thead>\n",
              "    <tr style=\"text-align: right;\">\n",
              "      <th></th>\n",
              "      <th>Дата</th>\n",
              "      <th>Цена</th>\n",
              "      <th>Откр.</th>\n",
              "      <th>Макс.</th>\n",
              "      <th>Мин.</th>\n",
              "      <th>Изм. %</th>\n",
              "    </tr>\n",
              "  </thead>\n",
              "  <tbody>\n",
              "    <tr>\n",
              "      <th>0</th>\n",
              "      <td>2020-01-10</td>\n",
              "      <td>1.1747</td>\n",
              "      <td>1.1719</td>\n",
              "      <td>1.1770</td>\n",
              "      <td>1.1717</td>\n",
              "      <td>0,25%</td>\n",
              "    </tr>\n",
              "    <tr>\n",
              "      <th>1</th>\n",
              "      <td>2020-01-12</td>\n",
              "      <td>1.2070</td>\n",
              "      <td>1.1928</td>\n",
              "      <td>1.2077</td>\n",
              "      <td>1.1926</td>\n",
              "      <td>1,19%</td>\n",
              "    </tr>\n",
              "    <tr>\n",
              "      <th>2</th>\n",
              "      <td>2020-02-10</td>\n",
              "      <td>1.1713</td>\n",
              "      <td>1.1748</td>\n",
              "      <td>1.1751</td>\n",
              "      <td>1.1695</td>\n",
              "      <td>-0,29%</td>\n",
              "    </tr>\n",
              "    <tr>\n",
              "      <th>3</th>\n",
              "      <td>2020-02-11</td>\n",
              "      <td>1.1640</td>\n",
              "      <td>1.1658</td>\n",
              "      <td>1.1658</td>\n",
              "      <td>1.1622</td>\n",
              "      <td>-0,06%</td>\n",
              "    </tr>\n",
              "    <tr>\n",
              "      <th>4</th>\n",
              "      <td>2020-02-12</td>\n",
              "      <td>1.2115</td>\n",
              "      <td>1.2070</td>\n",
              "      <td>1.2119</td>\n",
              "      <td>1.2040</td>\n",
              "      <td>0,37%</td>\n",
              "    </tr>\n",
              "    <tr>\n",
              "      <th>...</th>\n",
              "      <td>...</td>\n",
              "      <td>...</td>\n",
              "      <td>...</td>\n",
              "      <td>...</td>\n",
              "      <td>...</td>\n",
              "      <td>...</td>\n",
              "    </tr>\n",
              "    <tr>\n",
              "      <th>257</th>\n",
              "      <td>2021-12-03</td>\n",
              "      <td>1.1952</td>\n",
              "      <td>1.1983</td>\n",
              "      <td>1.1990</td>\n",
              "      <td>1.1910</td>\n",
              "      <td>-0,27%</td>\n",
              "    </tr>\n",
              "    <tr>\n",
              "      <th>258</th>\n",
              "      <td>2021-12-04</td>\n",
              "      <td>1.1909</td>\n",
              "      <td>1.1891</td>\n",
              "      <td>1.1920</td>\n",
              "      <td>1.1870</td>\n",
              "      <td>0,11%</td>\n",
              "    </tr>\n",
              "    <tr>\n",
              "      <th>259</th>\n",
              "      <td>2021-12-05</td>\n",
              "      <td>1.2069</td>\n",
              "      <td>1.2148</td>\n",
              "      <td>1.2153</td>\n",
              "      <td>1.2065</td>\n",
              "      <td>-0,63%</td>\n",
              "    </tr>\n",
              "    <tr>\n",
              "      <th>260</th>\n",
              "      <td>2021-12-07</td>\n",
              "      <td>1.1859</td>\n",
              "      <td>1.1872</td>\n",
              "      <td>1.1881</td>\n",
              "      <td>1.1836</td>\n",
              "      <td>-0,12%</td>\n",
              "    </tr>\n",
              "    <tr>\n",
              "      <th>261</th>\n",
              "      <td>2021-12-08</td>\n",
              "      <td>1.1727</td>\n",
              "      <td>1.1738</td>\n",
              "      <td>1.1749</td>\n",
              "      <td>1.1724</td>\n",
              "      <td>-0,09%</td>\n",
              "    </tr>\n",
              "  </tbody>\n",
              "</table>\n",
              "<p>262 rows × 6 columns</p>\n",
              "</div>"
            ],
            "text/plain": [
              "          Дата    Цена   Откр.   Макс.    Мин.  Изм. %\n",
              "0   2020-01-10  1.1747  1.1719  1.1770  1.1717   0,25%\n",
              "1   2020-01-12  1.2070  1.1928  1.2077  1.1926   1,19%\n",
              "2   2020-02-10  1.1713  1.1748  1.1751  1.1695  -0,29%\n",
              "3   2020-02-11  1.1640  1.1658  1.1658  1.1622  -0,06%\n",
              "4   2020-02-12  1.2115  1.2070  1.2119  1.2040   0,37%\n",
              "..         ...     ...     ...     ...     ...     ...\n",
              "257 2021-12-03  1.1952  1.1983  1.1990  1.1910  -0,27%\n",
              "258 2021-12-04  1.1909  1.1891  1.1920  1.1870   0,11%\n",
              "259 2021-12-05  1.2069  1.2148  1.2153  1.2065  -0,63%\n",
              "260 2021-12-07  1.1859  1.1872  1.1881  1.1836  -0,12%\n",
              "261 2021-12-08  1.1727  1.1738  1.1749  1.1724  -0,09%\n",
              "\n",
              "[262 rows x 6 columns]"
            ]
          },
          "metadata": {},
          "execution_count": 5
        }
      ]
    },
    {
      "cell_type": "code",
      "metadata": {
        "id": "ryjU57tvksXr",
        "colab": {
          "base_uri": "https://localhost:8080/"
        },
        "outputId": "d047ba84-f001-4745-e851-89d78314a11d"
      },
      "source": [
        "price = data['Цена']\n",
        "price "
      ],
      "execution_count": null,
      "outputs": [
        {
          "output_type": "execute_result",
          "data": {
            "text/plain": [
              "0      1.1747\n",
              "1      1.2070\n",
              "2      1.1713\n",
              "3      1.1640\n",
              "4      1.2115\n",
              "        ...  \n",
              "257    1.1952\n",
              "258    1.1909\n",
              "259    1.2069\n",
              "260    1.1859\n",
              "261    1.1727\n",
              "Name: Цена, Length: 262, dtype: float64"
            ]
          },
          "metadata": {},
          "execution_count": 6
        }
      ]
    },
    {
      "cell_type": "code",
      "metadata": {
        "colab": {
          "base_uri": "https://localhost:8080/"
        },
        "id": "l0_enmF1tsz5",
        "outputId": "be8958b8-f737-40c7-b3bb-17d14a160bc3"
      },
      "source": [
        "# normalization\n",
        "max_price = price.to_numpy().max()\n",
        "norm_price = price/max_price\n",
        "norm_price"
      ],
      "execution_count": null,
      "outputs": [
        {
          "output_type": "execute_result",
          "data": {
            "text/plain": [
              "0      0.953103\n",
              "1      0.979310\n",
              "2      0.950345\n",
              "3      0.944422\n",
              "4      0.982961\n",
              "         ...   \n",
              "257    0.969736\n",
              "258    0.966247\n",
              "259    0.979229\n",
              "260    0.962191\n",
              "261    0.951481\n",
              "Name: Цена, Length: 262, dtype: float64"
            ]
          },
          "metadata": {},
          "execution_count": 7
        }
      ]
    },
    {
      "cell_type": "code",
      "metadata": {
        "id": "oecoGFjpzano"
      },
      "source": [
        "import math\n",
        "train = norm_price[0:math.floor(0.8 * len(norm_price.index))]\n",
        "test = norm_price[math.floor(0.8 * len(norm_price.index)):len(norm_price.index)]\n",
        "\n",
        "train = train.values\n",
        "test = test.values"
      ],
      "execution_count": null,
      "outputs": []
    },
    {
      "cell_type": "markdown",
      "source": [
        "Разность значений"
      ],
      "metadata": {
        "id": "xnKuKQ7T3mIJ"
      }
    },
    {
      "cell_type": "code",
      "metadata": {
        "id": "bqyECAvXiOlw"
      },
      "source": [
        "import pandas as pd\n",
        "data= pd.read_csv(\"Прошлые данные - EUR_USD (1).csv\", decimal=\",\")\n",
        "data['Дата'] =pd.to_datetime(data.Дата)\n",
        "data.sort_values(by='Дата', inplace=True, ascending=True)\n",
        "data = data.reset_index(drop=True)\n",
        "price = data['Цена']\n",
        "\n",
        "import math\n",
        "train = price[0:math.floor(0.8 * len(price.index))]\n",
        "test = price[math.floor(0.8 * len(price.index)):len(price.index)]\n",
        "\n",
        "train = train.values\n",
        "test = test.values\n",
        "\n",
        "for i in range(0,len(train)-1):\n",
        "  train[i] = train[i+1]-train[i]\n",
        "\n",
        "for i in range(0,len(test)-1):\n",
        "  test[i] = test[i+1]-test[i]\n",
        "\n",
        "train = np.delete(train,-1)\n",
        "test = np.delete(test,-1)"
      ],
      "execution_count": null,
      "outputs": []
    },
    {
      "cell_type": "markdown",
      "source": [
        "Обучение сети"
      ],
      "metadata": {
        "id": "aZFvHCxilbMV"
      }
    },
    {
      "cell_type": "code",
      "metadata": {
        "id": "mkWVHMB4Neow"
      },
      "source": [
        "t = 10\n",
        "model = Feedforward(t, 20)\n",
        "criterion = torch.nn.MSELoss()\n",
        "optimizer = torch.optim.SGD(model.parameters(), lr = 0.1)\n",
        "\n",
        "# training\n",
        "model.train()\n",
        "model.double()\n",
        "epoch = 1000\n",
        "for epoch in range(epoch):\n",
        "    rnd = np.random.randint(0,np.shape(train)[0] - (t+1))\n",
        "    xs = torch.from_numpy(train[rnd:rnd+t])\n",
        "    ys = torch.tensor(train[rnd+t])\n",
        "\n",
        "    optimizer.zero_grad()\n",
        "    # Forward pass\n",
        "    y_pred = model(xs)\n",
        "    # Compute Loss\n",
        "    loss = criterion(y_pred.squeeze(), ys)\n",
        "   \n",
        "    print('Epoch {}: train loss: {}'.format(epoch, loss.item()),'y_orig:', ys.item(), 'y_pred:', y_pred.item())\n",
        "    \n",
        "    # Backward pass\n",
        "    loss.backward()\n",
        "    optimizer.step()"
      ],
      "execution_count": null,
      "outputs": []
    },
    {
      "cell_type": "markdown",
      "source": [
        "Тестирование"
      ],
      "metadata": {
        "id": "w_T5_I8dlgvo"
      }
    },
    {
      "cell_type": "code",
      "metadata": {
        "colab": {
          "base_uri": "https://localhost:8080/"
        },
        "id": "NbIPlfgq9qop",
        "outputId": "11afaf1a-4ba3-40ac-f9d9-b765798ff1b4"
      },
      "source": [
        "# evaluation\n",
        "model.eval()\n",
        "error = []\n",
        "accuracy=[]\n",
        "y_f = []\n",
        "y_p = []\n",
        "for epoch in range(0,len(test)-t):\n",
        "  xs = torch.from_numpy(test[epoch:epoch+t])\n",
        "  ys = torch.tensor(test[epoch+t])\n",
        "  y_pred = model(xs)\n",
        "  loss = criterion(y_pred.squeeze(), ys)\n",
        "  \n",
        "  accuracy.append(1-np.abs(y_pred.item() - ys.item()))\n",
        "  error.append(loss.item())\n",
        "  y_f.append(ys.item())\n",
        "  y_p.append(y_pred.item())\n",
        "print('Accuracy:', np.mean(accuracy), 'STD', np.std(error))"
      ],
      "execution_count": null,
      "outputs": [
        {
          "output_type": "stream",
          "name": "stdout",
          "text": [
            "Accuracy: 0.9856097008784178 STD 0.0006493381380509784\n"
          ]
        }
      ]
    },
    {
      "cell_type": "code",
      "metadata": {
        "id": "bdnUQzH09qkY",
        "colab": {
          "base_uri": "https://localhost:8080/",
          "height": 281
        },
        "outputId": "4c73606b-cb2a-4dfb-a2f7-c60e12ecb3cd"
      },
      "source": [
        "plt.plot(y_f)\n",
        "plt.plot(y_p)\n",
        "plt.title(\"t=10\" )\n",
        "plt.show()"
      ],
      "execution_count": null,
      "outputs": [
        {
          "output_type": "display_data",
          "data": {
            "image/png": "[encoded data removed]",
            "text/plain": [
              "<Figure size 432x288 with 1 Axes>"
            ]
          },
          "metadata": {
            "needs_background": "light"
          }
        }
      ]
    }
  ]
}